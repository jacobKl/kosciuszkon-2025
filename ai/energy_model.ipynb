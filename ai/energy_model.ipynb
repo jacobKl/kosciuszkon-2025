{
  "cells": [
    {
      "cell_type": "code",
      "execution_count": 35,
      "metadata": {
        "colab": {
          "base_uri": "https://localhost:8080/",
          "height": 206
        },
        "id": "St9QchsD7vYN",
        "outputId": "c2d73a73-859f-4589-e67d-c3c2107aa133"
      },
      "outputs": [
        {
          "name": "stdout",
          "output_type": "stream",
          "text": [
            "DOEID           4689\n",
            "REGIONC         4689\n",
            "DIVISION        4689\n",
            "STATE_FIPS      4689\n",
            "state_postal    4689\n",
            "                ... \n",
            "EVCHRGDLR       4680\n",
            "EVCHRGHWY       4679\n",
            "EVCHRGOTH       4681\n",
            "EVHOMEAMT       4685\n",
            "EVCHRGTYPE      4686\n",
            "Length: 799, dtype: int64\n"
          ]
        },
        {
          "data": {
            "text/html": [
              "<div>\n",
              "<style scoped>\n",
              "    .dataframe tbody tr th:only-of-type {\n",
              "        vertical-align: middle;\n",
              "    }\n",
              "\n",
              "    .dataframe tbody tr th {\n",
              "        vertical-align: top;\n",
              "    }\n",
              "\n",
              "    .dataframe thead th {\n",
              "        text-align: right;\n",
              "    }\n",
              "</style>\n",
              "<table border=\"1\" class=\"dataframe\">\n",
              "  <thead>\n",
              "    <tr style=\"text-align: right;\">\n",
              "      <th></th>\n",
              "      <th>NCOMBATH</th>\n",
              "      <th>TOTROOMS</th>\n",
              "      <th>NHSLDMEM</th>\n",
              "      <th>ATHOME</th>\n",
              "      <th>KWH</th>\n",
              "      <th>NUM_DEVICES</th>\n",
              "    </tr>\n",
              "  </thead>\n",
              "  <tbody>\n",
              "    <tr>\n",
              "      <th>1</th>\n",
              "      <td>1</td>\n",
              "      <td>3</td>\n",
              "      <td>1</td>\n",
              "      <td>5</td>\n",
              "      <td>5243.05</td>\n",
              "      <td>3</td>\n",
              "    </tr>\n",
              "    <tr>\n",
              "      <th>2</th>\n",
              "      <td>1</td>\n",
              "      <td>4</td>\n",
              "      <td>1</td>\n",
              "      <td>3</td>\n",
              "      <td>2387.64</td>\n",
              "      <td>0</td>\n",
              "    </tr>\n",
              "    <tr>\n",
              "      <th>4</th>\n",
              "      <td>1</td>\n",
              "      <td>3</td>\n",
              "      <td>2</td>\n",
              "      <td>5</td>\n",
              "      <td>5869.70</td>\n",
              "      <td>4</td>\n",
              "    </tr>\n",
              "    <tr>\n",
              "      <th>8</th>\n",
              "      <td>1</td>\n",
              "      <td>3</td>\n",
              "      <td>1</td>\n",
              "      <td>5</td>\n",
              "      <td>3969.96</td>\n",
              "      <td>2</td>\n",
              "    </tr>\n",
              "    <tr>\n",
              "      <th>9</th>\n",
              "      <td>1</td>\n",
              "      <td>4</td>\n",
              "      <td>1</td>\n",
              "      <td>0</td>\n",
              "      <td>3632.40</td>\n",
              "      <td>2</td>\n",
              "    </tr>\n",
              "  </tbody>\n",
              "</table>\n",
              "</div>"
            ],
            "text/plain": [
              "   NCOMBATH  TOTROOMS  NHSLDMEM  ATHOME      KWH  NUM_DEVICES\n",
              "1         1         3         1       5  5243.05            3\n",
              "2         1         4         1       3  2387.64            0\n",
              "4         1         3         2       5  5869.70            4\n",
              "8         1         3         1       5  3969.96            2\n",
              "9         1         4         1       0  3632.40            2"
            ]
          },
          "execution_count": 35,
          "metadata": {},
          "output_type": "execute_result"
        }
      ],
      "source": [
        "import pandas as pd\n",
        "import sklearn\n",
        "\n",
        "sklearn.set_config(transform_output=\"pandas\")\n",
        "\n",
        "df = pd.read_csv(\"recs2020_public_v7.csv\")\n",
        "df = df[df[\"KWH\"] < 6000]\n",
        "df = df[df[\"KWH\"] > 1000]\n",
        "base_cols = [\"NCOMBATH\", \"TOTROOMS\", \"NHSLDMEM\", \"ATHOME\", \"KWH\"]\n",
        "device_cols = [\n",
        "    \"TVCOLOR\",\n",
        "    \"OVEN\",\n",
        "    \"COOKTOP\",\n",
        "    \"MICRO\",\n",
        "    \"ZFREEZER\",\n",
        "    \"DESKTOP\",\n",
        "    \"NUMLAPTOP\",\n",
        "    \"DVD\"\n",
        "]\n",
        "print(df.count())\n",
        "device_cols_in_df = [col for col in device_cols if col in df.columns]\n",
        "df[\"NUM_DEVICES\"] = df[device_cols_in_df].fillna(0).sum(axis=1)\n",
        "model_df = df[base_cols + [\"NUM_DEVICES\"]]\n",
        "\n",
        "features = [\"NCOMBATH\", \"TOTROOMS\", \"NHSLDMEM\", \"ATHOME\", \"NUM_DEVICES\"]\n",
        "\n",
        "model_df.head()"
      ]
    },
    {
      "cell_type": "code",
      "execution_count": 36,
      "metadata": {
        "id": "uTnXqpMcBSco"
      },
      "outputs": [],
      "source": [
        "from sklearn.model_selection import train_test_split\n",
        "\n",
        "y = model_df[\"KWH\"]\n",
        "df = model_df.drop(columns=[\"KWH\"])\n",
        "\n",
        "X_train, X_test, y_train, y_test = train_test_split(\n",
        "    df, y, test_size=0.3, random_state=0\n",
        ")"
      ]
    },
    {
      "cell_type": "code",
      "execution_count": 37,
      "metadata": {
        "colab": {
          "base_uri": "https://localhost:8080/"
        },
        "id": "RqPPRxQGDRuc",
        "outputId": "f7227f05-ab58-49ed-aefd-57f7dafdee1b"
      },
      "outputs": [
        {
          "name": "stdout",
          "output_type": "stream",
          "text": [
            "Train RMSE 945.59, MAE: 742.57\n",
            "Test  RMSE 1312.61, MAE: 1071.85\n"
          ]
        }
      ],
      "source": [
        "from sklearn.metrics import root_mean_squared_error, mean_absolute_error\n",
        "from sklearn.preprocessing import StandardScaler\n",
        "from sklearn.ensemble import RandomForestRegressor\n",
        "\n",
        "def evaluate_model(\n",
        "    y_train,\n",
        "    y_test,\n",
        "    y_pred_train,\n",
        "    y_pred_test\n",
        ") -> None:\n",
        "    rmse_train = root_mean_squared_error(y_train, y_pred_train)\n",
        "    mae_train = mean_absolute_error(y_train, y_pred_train)\n",
        "\n",
        "    rmse_test = root_mean_squared_error(y_test, y_pred_test)\n",
        "    mae_test = mean_absolute_error(y_test, y_pred_test)\n",
        "\n",
        "    print(f\"Train RMSE {rmse_train:.2f}, MAE: {mae_train:.2f}\")\n",
        "    print(f\"Test  RMSE {rmse_test:.2f}, MAE: {mae_test:.2f}\")\n",
        "\n",
        "rf = RandomForestRegressor(random_state=0)\n",
        "rf.fit(X_train, y_train)\n",
        "\n",
        "y_pred_train = rf.predict(X_train)\n",
        "y_pred_test = rf.predict(X_test)\n",
        "evaluate_model(y_train, y_test, y_pred_train, y_pred_test)"
      ]
    },
    {
      "cell_type": "code",
      "execution_count": 38,
      "metadata": {
        "colab": {
          "base_uri": "https://localhost:8080/"
        },
        "id": "dE6raFbmFtPR",
        "outputId": "662a8fd2-7033-4646-a657-ee242a305a1c"
      },
      "outputs": [
        {
          "name": "stdout",
          "output_type": "stream",
          "text": [
            "Przewidywane zużycie energii (KWH): 3028.54\n"
          ]
        }
      ],
      "source": [
        "new_data = pd.DataFrame({\n",
        "    \"NCOMBATH\": [0.5],\n",
        "    \"TOTROOMS\": [0.2],\n",
        "    \"NHSLDMEM\": [0.5],\n",
        "    \"ATHOME\": [0.5],\n",
        "    \"NUM_DEVICES\": [0.14]\n",
        "})\n",
        "predicted_kwh = rf.predict(new_data)\n",
        "print(f\"Przewidywane zużycie energii (KWH): {predicted_kwh[0]:.2f}\")"
      ]
    },
    {
      "cell_type": "code",
      "execution_count": null,
      "metadata": {},
      "outputs": [],
      "source": []
    }
  ],
  "metadata": {
    "colab": {
      "provenance": []
    },
    "kernelspec": {
      "display_name": "Python 3",
      "name": "python3"
    },
    "language_info": {
      "codemirror_mode": {
        "name": "ipython",
        "version": 3
      },
      "file_extension": ".py",
      "mimetype": "text/x-python",
      "name": "python",
      "nbconvert_exporter": "python",
      "pygments_lexer": "ipython3",
      "version": "3.9.6"
    }
  },
  "nbformat": 4,
  "nbformat_minor": 0
}
